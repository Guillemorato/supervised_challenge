{
 "cells": [
  {
   "cell_type": "markdown",
   "metadata": {},
   "source": [
    "# Understanding Supervised Learning\n",
    "\n",
    "_Supervised learning is the machine learning task of learning a function that maps an input to an output based on example input-output pairs_\n",
    "\n",
    "![Image](../images/ml_map.jpg)"
   ]
  },
  {
   "cell_type": "markdown",
   "metadata": {},
   "source": [
    "## Before we start:\n",
    "\n",
    "- __Data exploration:__ \n",
    "\n",
    "Shape, Descriptive statistics (numeric, categorical, timestamp), Visualization, Domain knowledge \n",
    "\n",
    "- __Data transformations:__ \n",
    "\n",
    "Arbitrary, Modeling (joins, feature eng.), Performance (outliers, scaling, encoding)\n",
    "\n",
    "![Image](https://media.giphy.com/media/ZThQqlxY5BXMc/giphy.gif)"
   ]
  },
  {
   "cell_type": "code",
   "execution_count": 1,
   "metadata": {},
   "outputs": [],
   "source": [
    "# Imports\n",
    "\n",
    "import matplotlib.pyplot as plt\n",
    "import random\n",
    "import numpy as np\n",
    "import pandas as pd\n",
    "from sklearn.model_selection import train_test_split\n",
    "from sklearn.linear_model import LinearRegression\n",
    "from sklearn.ensemble import RandomForestRegressor\n",
    "from sklearn.metrics import mean_squared_error\n",
    "\n",
    "%matplotlib inline"
   ]
  },
  {
   "cell_type": "code",
   "execution_count": 32,
   "metadata": {},
   "outputs": [
    {
     "data": {
      "text/html": [
       "<div>\n",
       "<style scoped>\n",
       "    .dataframe tbody tr th:only-of-type {\n",
       "        vertical-align: middle;\n",
       "    }\n",
       "\n",
       "    .dataframe tbody tr th {\n",
       "        vertical-align: top;\n",
       "    }\n",
       "\n",
       "    .dataframe thead th {\n",
       "        text-align: right;\n",
       "    }\n",
       "</style>\n",
       "<table border=\"1\" class=\"dataframe\">\n",
       "  <thead>\n",
       "    <tr style=\"text-align: right;\">\n",
       "      <th></th>\n",
       "      <th>time</th>\n",
       "      <th>distance</th>\n",
       "      <th>speed</th>\n",
       "    </tr>\n",
       "  </thead>\n",
       "  <tbody>\n",
       "    <tr>\n",
       "      <th>0</th>\n",
       "      <td>0.445878</td>\n",
       "      <td>18.39</td>\n",
       "      <td>41.244510</td>\n",
       "    </tr>\n",
       "    <tr>\n",
       "      <th>1</th>\n",
       "      <td>0.509241</td>\n",
       "      <td>18.39</td>\n",
       "      <td>36.112592</td>\n",
       "    </tr>\n",
       "    <tr>\n",
       "      <th>2</th>\n",
       "      <td>0.452834</td>\n",
       "      <td>18.39</td>\n",
       "      <td>40.610891</td>\n",
       "    </tr>\n",
       "    <tr>\n",
       "      <th>3</th>\n",
       "      <td>0.479029</td>\n",
       "      <td>18.39</td>\n",
       "      <td>38.390194</td>\n",
       "    </tr>\n",
       "    <tr>\n",
       "      <th>4</th>\n",
       "      <td>0.426594</td>\n",
       "      <td>18.39</td>\n",
       "      <td>43.108864</td>\n",
       "    </tr>\n",
       "  </tbody>\n",
       "</table>\n",
       "</div>"
      ],
      "text/plain": [
       "       time  distance      speed\n",
       "0  0.445878     18.39  41.244510\n",
       "1  0.509241     18.39  36.112592\n",
       "2  0.452834     18.39  40.610891\n",
       "3  0.479029     18.39  38.390194\n",
       "4  0.426594     18.39  43.108864"
      ]
     },
     "execution_count": 32,
     "metadata": {},
     "output_type": "execute_result"
    }
   ],
   "source": [
    "# Read data\n",
    "\n",
    "file = '../data/baseball_1K_ok.csv'\n",
    "data = pd.read_csv(file)\n",
    "data.head()"
   ]
  },
  {
   "cell_type": "code",
   "execution_count": 33,
   "metadata": {},
   "outputs": [
    {
     "data": {
      "text/plain": [
       "(1000, 3)"
      ]
     },
     "execution_count": 33,
     "metadata": {},
     "output_type": "execute_result"
    }
   ],
   "source": [
    "# Shape\n",
    "\n",
    "data.shape"
   ]
  },
  {
   "cell_type": "code",
   "execution_count": 34,
   "metadata": {},
   "outputs": [
    {
     "data": {
      "text/html": [
       "<div>\n",
       "<style scoped>\n",
       "    .dataframe tbody tr th:only-of-type {\n",
       "        vertical-align: middle;\n",
       "    }\n",
       "\n",
       "    .dataframe tbody tr th {\n",
       "        vertical-align: top;\n",
       "    }\n",
       "\n",
       "    .dataframe thead th {\n",
       "        text-align: right;\n",
       "    }\n",
       "</style>\n",
       "<table border=\"1\" class=\"dataframe\">\n",
       "  <thead>\n",
       "    <tr style=\"text-align: right;\">\n",
       "      <th></th>\n",
       "      <th>time</th>\n",
       "      <th>distance</th>\n",
       "      <th>speed</th>\n",
       "    </tr>\n",
       "  </thead>\n",
       "  <tbody>\n",
       "    <tr>\n",
       "      <th>count</th>\n",
       "      <td>1000.000000</td>\n",
       "      <td>1.000000e+03</td>\n",
       "      <td>1000.000000</td>\n",
       "    </tr>\n",
       "    <tr>\n",
       "      <th>mean</th>\n",
       "      <td>0.461271</td>\n",
       "      <td>1.839000e+01</td>\n",
       "      <td>40.037693</td>\n",
       "    </tr>\n",
       "    <tr>\n",
       "      <th>std</th>\n",
       "      <td>0.030009</td>\n",
       "      <td>2.594779e-13</td>\n",
       "      <td>2.613213</td>\n",
       "    </tr>\n",
       "    <tr>\n",
       "      <th>min</th>\n",
       "      <td>0.411414</td>\n",
       "      <td>1.839000e+01</td>\n",
       "      <td>35.812705</td>\n",
       "    </tr>\n",
       "    <tr>\n",
       "      <th>25%</th>\n",
       "      <td>0.434189</td>\n",
       "      <td>1.839000e+01</td>\n",
       "      <td>37.690252</td>\n",
       "    </tr>\n",
       "    <tr>\n",
       "      <th>50%</th>\n",
       "      <td>0.460938</td>\n",
       "      <td>1.839000e+01</td>\n",
       "      <td>39.896925</td>\n",
       "    </tr>\n",
       "    <tr>\n",
       "      <th>75%</th>\n",
       "      <td>0.487925</td>\n",
       "      <td>1.839000e+01</td>\n",
       "      <td>42.354789</td>\n",
       "    </tr>\n",
       "    <tr>\n",
       "      <th>max</th>\n",
       "      <td>0.513505</td>\n",
       "      <td>1.839000e+01</td>\n",
       "      <td>44.699547</td>\n",
       "    </tr>\n",
       "  </tbody>\n",
       "</table>\n",
       "</div>"
      ],
      "text/plain": [
       "              time      distance        speed\n",
       "count  1000.000000  1.000000e+03  1000.000000\n",
       "mean      0.461271  1.839000e+01    40.037693\n",
       "std       0.030009  2.594779e-13     2.613213\n",
       "min       0.411414  1.839000e+01    35.812705\n",
       "25%       0.434189  1.839000e+01    37.690252\n",
       "50%       0.460938  1.839000e+01    39.896925\n",
       "75%       0.487925  1.839000e+01    42.354789\n",
       "max       0.513505  1.839000e+01    44.699547"
      ]
     },
     "execution_count": 34,
     "metadata": {},
     "output_type": "execute_result"
    }
   ],
   "source": [
    "# Descriptive statistics\n",
    "\n",
    "data.describe()"
   ]
  },
  {
   "cell_type": "code",
   "execution_count": 35,
   "metadata": {},
   "outputs": [
    {
     "data": {
      "text/plain": [
       "'../data/baseball_1K_ok.csv'"
      ]
     },
     "execution_count": 35,
     "metadata": {},
     "output_type": "execute_result"
    },
    {
     "data": {
      "image/png": "[encoded data removed]",
      "text/plain": [
       "<Figure size 1600x800 with 1 Axes>"
      ]
     },
     "metadata": {},
     "output_type": "display_data"
    }
   ],
   "source": [
    "# Visualization\n",
    "\n",
    "fig, ax = plt.subplots(ncols=1, nrows=1, figsize=(16,8))\n",
    "ax.set(xlabel='Speed (m/s)', \n",
    "       ylabel='Time (s)',\n",
    "       title='Baseball Speed-Time Relation')\n",
    "ax.scatter(data['speed'], data['time'], c='grey')\n",
    "file"
   ]
  },
  {
   "cell_type": "markdown",
   "metadata": {},
   "source": [
    "### Domain knowledge\n",
    "\n",
    "![Image](../images/velocity.png)\n",
    "\n",
    "![Image](https://media.giphy.com/media/l0HlIJQUdby5FzlZe/giphy.gif)"
   ]
  },
  {
   "cell_type": "code",
   "execution_count": 36,
   "metadata": {},
   "outputs": [
    {
     "name": "stdout",
     "output_type": "stream",
     "text": [
      "(1000, 2) (1000,)\n"
     ]
    }
   ],
   "source": [
    "# Features and predictions\n",
    "\n",
    "X = data[['time','distance']]\n",
    "y = data['speed']\n",
    "print(X.shape,y.shape)"
   ]
  },
  {
   "cell_type": "code",
   "execution_count": 37,
   "metadata": {},
   "outputs": [
    {
     "data": {
      "text/html": [
       "<div>\n",
       "<style scoped>\n",
       "    .dataframe tbody tr th:only-of-type {\n",
       "        vertical-align: middle;\n",
       "    }\n",
       "\n",
       "    .dataframe tbody tr th {\n",
       "        vertical-align: top;\n",
       "    }\n",
       "\n",
       "    .dataframe thead th {\n",
       "        text-align: right;\n",
       "    }\n",
       "</style>\n",
       "<table border=\"1\" class=\"dataframe\">\n",
       "  <thead>\n",
       "    <tr style=\"text-align: right;\">\n",
       "      <th></th>\n",
       "      <th>time</th>\n",
       "      <th>distance</th>\n",
       "    </tr>\n",
       "  </thead>\n",
       "  <tbody>\n",
       "    <tr>\n",
       "      <th>0</th>\n",
       "      <td>0.445878</td>\n",
       "      <td>18.39</td>\n",
       "    </tr>\n",
       "    <tr>\n",
       "      <th>1</th>\n",
       "      <td>0.509241</td>\n",
       "      <td>18.39</td>\n",
       "    </tr>\n",
       "    <tr>\n",
       "      <th>2</th>\n",
       "      <td>0.452834</td>\n",
       "      <td>18.39</td>\n",
       "    </tr>\n",
       "    <tr>\n",
       "      <th>3</th>\n",
       "      <td>0.479029</td>\n",
       "      <td>18.39</td>\n",
       "    </tr>\n",
       "    <tr>\n",
       "      <th>4</th>\n",
       "      <td>0.426594</td>\n",
       "      <td>18.39</td>\n",
       "    </tr>\n",
       "    <tr>\n",
       "      <th>...</th>\n",
       "      <td>...</td>\n",
       "      <td>...</td>\n",
       "    </tr>\n",
       "    <tr>\n",
       "      <th>995</th>\n",
       "      <td>0.423281</td>\n",
       "      <td>18.39</td>\n",
       "    </tr>\n",
       "    <tr>\n",
       "      <th>996</th>\n",
       "      <td>0.464441</td>\n",
       "      <td>18.39</td>\n",
       "    </tr>\n",
       "    <tr>\n",
       "      <th>997</th>\n",
       "      <td>0.415544</td>\n",
       "      <td>18.39</td>\n",
       "    </tr>\n",
       "    <tr>\n",
       "      <th>998</th>\n",
       "      <td>0.453868</td>\n",
       "      <td>18.39</td>\n",
       "    </tr>\n",
       "    <tr>\n",
       "      <th>999</th>\n",
       "      <td>0.486001</td>\n",
       "      <td>18.39</td>\n",
       "    </tr>\n",
       "  </tbody>\n",
       "</table>\n",
       "<p>1000 rows × 2 columns</p>\n",
       "</div>"
      ],
      "text/plain": [
       "         time  distance\n",
       "0    0.445878     18.39\n",
       "1    0.509241     18.39\n",
       "2    0.452834     18.39\n",
       "3    0.479029     18.39\n",
       "4    0.426594     18.39\n",
       "..        ...       ...\n",
       "995  0.423281     18.39\n",
       "996  0.464441     18.39\n",
       "997  0.415544     18.39\n",
       "998  0.453868     18.39\n",
       "999  0.486001     18.39\n",
       "\n",
       "[1000 rows x 2 columns]"
      ]
     },
     "execution_count": 37,
     "metadata": {},
     "output_type": "execute_result"
    }
   ],
   "source": [
    "X"
   ]
  },
  {
   "cell_type": "code",
   "execution_count": 38,
   "metadata": {},
   "outputs": [
    {
     "data": {
      "text/plain": [
       "0      41.244510\n",
       "1      36.112592\n",
       "2      40.610891\n",
       "3      38.390194\n",
       "4      43.108864\n",
       "         ...    \n",
       "995    43.446365\n",
       "996    39.596010\n",
       "997    44.255230\n",
       "998    40.518357\n",
       "999    37.839414\n",
       "Name: speed, Length: 1000, dtype: float64"
      ]
     },
     "execution_count": 38,
     "metadata": {},
     "output_type": "execute_result"
    }
   ],
   "source": [
    "y"
   ]
  },
  {
   "cell_type": "markdown",
   "metadata": {},
   "source": [
    "---"
   ]
  },
  {
   "cell_type": "markdown",
   "metadata": {},
   "source": [
    "## Train-Test Split:\n",
    "\n",
    "![Image](../images/train-test-split.jpg)"
   ]
  },
  {
   "cell_type": "code",
   "execution_count": 39,
   "metadata": {},
   "outputs": [
    {
     "name": "stdout",
     "output_type": "stream",
     "text": [
      "X_train: (800, 2), X_test: (200, 2), y_train: (800,), y_test: (200,)\n",
      "X_train: <class 'pandas.core.frame.DataFrame'>, X_test: <class 'pandas.core.frame.DataFrame'>, y_train: <class 'pandas.core.series.Series'>, y_test: <class 'pandas.core.series.Series'>\n"
     ]
    }
   ],
   "source": [
    "X_train, X_test, y_train, y_test = train_test_split(X, y, test_size=0.2, random_state=42)\n",
    "print(f\"X_train: {X_train.shape}, X_test: {X_test.shape}, y_train: {y_train.shape}, y_test: {y_test.shape}\")\n",
    "print(f\"X_train: {type(X_train)}, X_test: {type(X_test)}, y_train: {type(y_train)}, y_test: {type(y_test)}\")"
   ]
  },
  {
   "cell_type": "code",
   "execution_count": 40,
   "metadata": {},
   "outputs": [
    {
     "data": {
      "text/html": [
       "<div>\n",
       "<style scoped>\n",
       "    .dataframe tbody tr th:only-of-type {\n",
       "        vertical-align: middle;\n",
       "    }\n",
       "\n",
       "    .dataframe tbody tr th {\n",
       "        vertical-align: top;\n",
       "    }\n",
       "\n",
       "    .dataframe thead th {\n",
       "        text-align: right;\n",
       "    }\n",
       "</style>\n",
       "<table border=\"1\" class=\"dataframe\">\n",
       "  <thead>\n",
       "    <tr style=\"text-align: right;\">\n",
       "      <th></th>\n",
       "      <th>time</th>\n",
       "      <th>distance</th>\n",
       "    </tr>\n",
       "  </thead>\n",
       "  <tbody>\n",
       "    <tr>\n",
       "      <th>count</th>\n",
       "      <td>800.000000</td>\n",
       "      <td>8.000000e+02</td>\n",
       "    </tr>\n",
       "    <tr>\n",
       "      <th>mean</th>\n",
       "      <td>0.461038</td>\n",
       "      <td>1.839000e+01</td>\n",
       "    </tr>\n",
       "    <tr>\n",
       "      <th>std</th>\n",
       "      <td>0.030492</td>\n",
       "      <td>1.777468e-13</td>\n",
       "    </tr>\n",
       "    <tr>\n",
       "      <th>min</th>\n",
       "      <td>0.411414</td>\n",
       "      <td>1.839000e+01</td>\n",
       "    </tr>\n",
       "    <tr>\n",
       "      <th>25%</th>\n",
       "      <td>0.432459</td>\n",
       "      <td>1.839000e+01</td>\n",
       "    </tr>\n",
       "    <tr>\n",
       "      <th>50%</th>\n",
       "      <td>0.460693</td>\n",
       "      <td>1.839000e+01</td>\n",
       "    </tr>\n",
       "    <tr>\n",
       "      <th>75%</th>\n",
       "      <td>0.488267</td>\n",
       "      <td>1.839000e+01</td>\n",
       "    </tr>\n",
       "    <tr>\n",
       "      <th>max</th>\n",
       "      <td>0.513505</td>\n",
       "      <td>1.839000e+01</td>\n",
       "    </tr>\n",
       "  </tbody>\n",
       "</table>\n",
       "</div>"
      ],
      "text/plain": [
       "             time      distance\n",
       "count  800.000000  8.000000e+02\n",
       "mean     0.461038  1.839000e+01\n",
       "std      0.030492  1.777468e-13\n",
       "min      0.411414  1.839000e+01\n",
       "25%      0.432459  1.839000e+01\n",
       "50%      0.460693  1.839000e+01\n",
       "75%      0.488267  1.839000e+01\n",
       "max      0.513505  1.839000e+01"
      ]
     },
     "execution_count": 40,
     "metadata": {},
     "output_type": "execute_result"
    }
   ],
   "source": [
    "X_train.describe()"
   ]
  },
  {
   "cell_type": "code",
   "execution_count": 41,
   "metadata": {},
   "outputs": [
    {
     "data": {
      "text/plain": [
       "count    800.000000\n",
       "mean      40.063402\n",
       "std        2.655365\n",
       "min       35.812705\n",
       "25%       37.663856\n",
       "50%       39.918150\n",
       "75%       42.524220\n",
       "max       44.699547\n",
       "Name: speed, dtype: float64"
      ]
     },
     "execution_count": 41,
     "metadata": {},
     "output_type": "execute_result"
    }
   ],
   "source": [
    "y_train.describe()"
   ]
  },
  {
   "cell_type": "code",
   "execution_count": 42,
   "metadata": {},
   "outputs": [
    {
     "data": {
      "text/html": [
       "<div>\n",
       "<style scoped>\n",
       "    .dataframe tbody tr th:only-of-type {\n",
       "        vertical-align: middle;\n",
       "    }\n",
       "\n",
       "    .dataframe tbody tr th {\n",
       "        vertical-align: top;\n",
       "    }\n",
       "\n",
       "    .dataframe thead th {\n",
       "        text-align: right;\n",
       "    }\n",
       "</style>\n",
       "<table border=\"1\" class=\"dataframe\">\n",
       "  <thead>\n",
       "    <tr style=\"text-align: right;\">\n",
       "      <th></th>\n",
       "      <th>time</th>\n",
       "      <th>distance</th>\n",
       "    </tr>\n",
       "  </thead>\n",
       "  <tbody>\n",
       "    <tr>\n",
       "      <th>count</th>\n",
       "      <td>200.000000</td>\n",
       "      <td>2.000000e+02</td>\n",
       "    </tr>\n",
       "    <tr>\n",
       "      <th>mean</th>\n",
       "      <td>0.462203</td>\n",
       "      <td>1.839000e+01</td>\n",
       "    </tr>\n",
       "    <tr>\n",
       "      <th>std</th>\n",
       "      <td>0.028047</td>\n",
       "      <td>3.205466e-14</td>\n",
       "    </tr>\n",
       "    <tr>\n",
       "      <th>min</th>\n",
       "      <td>0.411768</td>\n",
       "      <td>1.839000e+01</td>\n",
       "    </tr>\n",
       "    <tr>\n",
       "      <th>25%</th>\n",
       "      <td>0.438671</td>\n",
       "      <td>1.839000e+01</td>\n",
       "    </tr>\n",
       "    <tr>\n",
       "      <th>50%</th>\n",
       "      <td>0.461261</td>\n",
       "      <td>1.839000e+01</td>\n",
       "    </tr>\n",
       "    <tr>\n",
       "      <th>75%</th>\n",
       "      <td>0.483934</td>\n",
       "      <td>1.839000e+01</td>\n",
       "    </tr>\n",
       "    <tr>\n",
       "      <th>max</th>\n",
       "      <td>0.512582</td>\n",
       "      <td>1.839000e+01</td>\n",
       "    </tr>\n",
       "  </tbody>\n",
       "</table>\n",
       "</div>"
      ],
      "text/plain": [
       "             time      distance\n",
       "count  200.000000  2.000000e+02\n",
       "mean     0.462203  1.839000e+01\n",
       "std      0.028047  3.205466e-14\n",
       "min      0.411768  1.839000e+01\n",
       "25%      0.438671  1.839000e+01\n",
       "50%      0.461261  1.839000e+01\n",
       "75%      0.483934  1.839000e+01\n",
       "max      0.512582  1.839000e+01"
      ]
     },
     "execution_count": 42,
     "metadata": {},
     "output_type": "execute_result"
    }
   ],
   "source": [
    "X_test.describe()"
   ]
  },
  {
   "cell_type": "code",
   "execution_count": 43,
   "metadata": {},
   "outputs": [
    {
     "data": {
      "text/plain": [
       "count    200.000000\n",
       "mean      39.934854\n",
       "std        2.440953\n",
       "min       35.877194\n",
       "25%       38.001033\n",
       "50%       39.868936\n",
       "75%       41.922149\n",
       "max       44.661026\n",
       "Name: speed, dtype: float64"
      ]
     },
     "execution_count": 43,
     "metadata": {},
     "output_type": "execute_result"
    }
   ],
   "source": [
    "y_test.describe()"
   ]
  },
  {
   "cell_type": "markdown",
   "metadata": {},
   "source": [
    "---"
   ]
  },
  {
   "cell_type": "markdown",
   "metadata": {},
   "source": [
    "## Models\n",
    "\n",
    "![Image](../images/models.png)"
   ]
  },
  {
   "cell_type": "markdown",
   "metadata": {},
   "source": [
    "### _Linear Regression (test-in-training)_ "
   ]
  },
  {
   "cell_type": "code",
   "execution_count": 44,
   "metadata": {},
   "outputs": [
    {
     "name": "stdout",
     "output_type": "stream",
     "text": [
      "<class 'sklearn.linear_model._base.LinearRegression'>\n",
      "CPU times: user 336 µs, sys: 225 µs, total: 561 µs\n",
      "Wall time: 447 µs\n"
     ]
    }
   ],
   "source": [
    "%%time\n",
    "\n",
    "# Model definition\n",
    "\n",
    "model = LinearRegression()\n",
    "print(type(model))"
   ]
  },
  {
   "cell_type": "code",
   "execution_count": 45,
   "metadata": {},
   "outputs": [
    {
     "name": "stdout",
     "output_type": "stream",
     "text": [
      "<class 'sklearn.linear_model._base.LinearRegression'>\n",
      "CPU times: user 5.69 ms, sys: 5.81 ms, total: 11.5 ms\n",
      "Wall time: 11.2 ms\n"
     ]
    }
   ],
   "source": [
    "%%time\n",
    "\n",
    "# Model training\n",
    "\n",
    "weights = model.fit(X, y)\n",
    "print(type(weights))"
   ]
  },
  {
   "cell_type": "code",
   "execution_count": 46,
   "metadata": {},
   "outputs": [
    {
     "name": "stdout",
     "output_type": "stream",
     "text": [
      "<class 'numpy.ndarray'>\n",
      "CPU times: user 2.3 ms, sys: 433 µs, total: 2.74 ms\n",
      "Wall time: 2.66 ms\n"
     ]
    }
   ],
   "source": [
    "%%time\n",
    "\n",
    "# Model predictions\n",
    "\n",
    "predictions = model.predict(X_test)\n",
    "print(type(predictions))"
   ]
  },
  {
   "cell_type": "code",
   "execution_count": 47,
   "metadata": {},
   "outputs": [
    {
     "name": "stdout",
     "output_type": "stream",
     "text": [
      "Speed predictions error is: +/- 0.14118 m/s (Mean speed is around: 40 m/s and Std is around: 2 m/s)\n"
     ]
    }
   ],
   "source": [
    "# RMSE\n",
    "\n",
    "tricky_error = round(mean_squared_error(y_test, predictions)**0.5, 5)\n",
    "print(f\"Speed predictions error is: +/- {tricky_error} m/s (Mean speed is around: 40 m/s and Std is around: 2 m/s)\")"
   ]
  },
  {
   "cell_type": "markdown",
   "metadata": {},
   "source": [
    "### _Linear Regression (the-real-stuff)_ "
   ]
  },
  {
   "cell_type": "code",
   "execution_count": 48,
   "metadata": {},
   "outputs": [
    {
     "name": "stdout",
     "output_type": "stream",
     "text": [
      "<class 'sklearn.linear_model._base.LinearRegression'>\n",
      "CPU times: user 471 µs, sys: 160 µs, total: 631 µs\n",
      "Wall time: 571 µs\n"
     ]
    }
   ],
   "source": [
    "%%time\n",
    "\n",
    "# Model definition\n",
    "\n",
    "model = LinearRegression()\n",
    "print(type(model))"
   ]
  },
  {
   "cell_type": "code",
   "execution_count": 49,
   "metadata": {},
   "outputs": [
    {
     "name": "stdout",
     "output_type": "stream",
     "text": [
      "<class 'sklearn.linear_model._base.LinearRegression'>\n",
      "CPU times: user 3.98 ms, sys: 1.18 ms, total: 5.17 ms\n",
      "Wall time: 4.22 ms\n"
     ]
    }
   ],
   "source": [
    "%%time\n",
    "\n",
    "# Model training\n",
    "\n",
    "weights = model.fit(X_train, y_train)\n",
    "print(type(weights))"
   ]
  },
  {
   "cell_type": "code",
   "execution_count": 50,
   "metadata": {},
   "outputs": [
    {
     "name": "stdout",
     "output_type": "stream",
     "text": [
      "<class 'numpy.ndarray'>\n",
      "CPU times: user 2.68 ms, sys: 172 µs, total: 2.85 ms\n",
      "Wall time: 2.79 ms\n"
     ]
    }
   ],
   "source": [
    "%%time\n",
    "\n",
    "# Model predictions\n",
    "\n",
    "predictions = model.predict(X_test)\n",
    "print(type(predictions))"
   ]
  },
  {
   "cell_type": "code",
   "execution_count": 51,
   "metadata": {},
   "outputs": [
    {
     "name": "stdout",
     "output_type": "stream",
     "text": [
      "Speed predictions error is: +/- 0.14212 m/s (Mean speed is around: 40 m/s and Std is around: 2 m/s)\n"
     ]
    }
   ],
   "source": [
    "# RMSE\n",
    "\n",
    "real_error = round(mean_squared_error(y_test, predictions)**0.5, 5)\n",
    "print(f\"Speed predictions error is: +/- {real_error} m/s (Mean speed is around: 40 m/s and Std is around: 2 m/s)\")"
   ]
  },
  {
   "cell_type": "code",
   "execution_count": 52,
   "metadata": {},
   "outputs": [
    {
     "name": "stdout",
     "output_type": "stream",
     "text": [
      "The real_error is 1.01 times the tricky_error\n"
     ]
    }
   ],
   "source": [
    "# RMSE comparison\n",
    "\n",
    "print(f\"The real_error is {round(real_error/tricky_error, 2)} times the tricky_error\")"
   ]
  },
  {
   "cell_type": "markdown",
   "metadata": {},
   "source": [
    "---"
   ]
  },
  {
   "cell_type": "markdown",
   "metadata": {},
   "source": [
    "### _Random Forest Regressor (test-in-training)_ "
   ]
  },
  {
   "cell_type": "code",
   "execution_count": 53,
   "metadata": {},
   "outputs": [
    {
     "name": "stdout",
     "output_type": "stream",
     "text": [
      "<class 'sklearn.ensemble._forest.RandomForestRegressor'>\n",
      "CPU times: user 621 µs, sys: 764 µs, total: 1.38 ms\n",
      "Wall time: 1.33 ms\n"
     ]
    }
   ],
   "source": [
    "%%time\n",
    "\n",
    "# Model definition\n",
    "\n",
    "model = RandomForestRegressor()\n",
    "print(type(model))"
   ]
  },
  {
   "cell_type": "code",
   "execution_count": 54,
   "metadata": {},
   "outputs": [
    {
     "name": "stdout",
     "output_type": "stream",
     "text": [
      "<class 'sklearn.ensemble._forest.RandomForestRegressor'>\n",
      "CPU times: user 228 ms, sys: 18.4 ms, total: 246 ms\n",
      "Wall time: 248 ms\n"
     ]
    }
   ],
   "source": [
    "%%time\n",
    "\n",
    "# Model training\n",
    "\n",
    "weights = model.fit(X, y)\n",
    "print(type(weights))"
   ]
  },
  {
   "cell_type": "code",
   "execution_count": 55,
   "metadata": {},
   "outputs": [
    {
     "name": "stdout",
     "output_type": "stream",
     "text": [
      "<class 'numpy.ndarray'>\n",
      "CPU times: user 11.1 ms, sys: 2.16 ms, total: 13.2 ms\n",
      "Wall time: 11.5 ms\n"
     ]
    }
   ],
   "source": [
    "%%time\n",
    "\n",
    "# Model predictions\n",
    "\n",
    "predictions = model.predict(X_test)\n",
    "print(type(predictions))"
   ]
  },
  {
   "cell_type": "code",
   "execution_count": 56,
   "metadata": {},
   "outputs": [
    {
     "name": "stdout",
     "output_type": "stream",
     "text": [
      "Speed predictions error is: +/- 0.00178 m/s (Mean speed is around: 40 m/s and Std is around: 2 m/s)\n"
     ]
    }
   ],
   "source": [
    "# RMSE\n",
    "\n",
    "tricky_error = round(mean_squared_error(y_test, predictions)**0.5, 5)\n",
    "print(f\"Speed predictions error is: +/- {tricky_error} m/s (Mean speed is around: 40 m/s and Std is around: 2 m/s)\")"
   ]
  },
  {
   "cell_type": "markdown",
   "metadata": {},
   "source": [
    "### _Random Forest Regressor (the-real-stuff)_ "
   ]
  },
  {
   "cell_type": "code",
   "execution_count": 57,
   "metadata": {},
   "outputs": [
    {
     "name": "stdout",
     "output_type": "stream",
     "text": [
      "<class 'sklearn.ensemble._forest.RandomForestRegressor'>\n",
      "CPU times: user 514 µs, sys: 168 µs, total: 682 µs\n",
      "Wall time: 633 µs\n"
     ]
    }
   ],
   "source": [
    "%%time\n",
    "\n",
    "# Model definition\n",
    "\n",
    "model = RandomForestRegressor()\n",
    "print(type(model))"
   ]
  },
  {
   "cell_type": "code",
   "execution_count": 58,
   "metadata": {},
   "outputs": [
    {
     "name": "stdout",
     "output_type": "stream",
     "text": [
      "<class 'sklearn.ensemble._forest.RandomForestRegressor'>\n",
      "CPU times: user 238 ms, sys: 17.9 ms, total: 256 ms\n",
      "Wall time: 291 ms\n"
     ]
    }
   ],
   "source": [
    "%%time\n",
    "\n",
    "# Model training\n",
    "\n",
    "weights = model.fit(X_train, y_train)\n",
    "print(type(weights))"
   ]
  },
  {
   "cell_type": "code",
   "execution_count": 59,
   "metadata": {},
   "outputs": [
    {
     "name": "stdout",
     "output_type": "stream",
     "text": [
      "<class 'numpy.ndarray'>\n",
      "CPU times: user 10.6 ms, sys: 1.98 ms, total: 12.5 ms\n",
      "Wall time: 10.7 ms\n"
     ]
    }
   ],
   "source": [
    "%%time\n",
    "\n",
    "# Model predictions\n",
    "\n",
    "predictions = model.predict(X_test)\n",
    "print(type(predictions))"
   ]
  },
  {
   "cell_type": "code",
   "execution_count": 60,
   "metadata": {},
   "outputs": [
    {
     "name": "stdout",
     "output_type": "stream",
     "text": [
      "Speed predictions error is: +/- 0.00535 m/s (Mean speed is around: 40 m/s and Std is around: 2 m/s)\n"
     ]
    }
   ],
   "source": [
    "# RMSE\n",
    "\n",
    "real_error = round(mean_squared_error(y_test, predictions)**0.5, 5)\n",
    "print(f\"Speed predictions error is: +/- {real_error} m/s (Mean speed is around: 40 m/s and Std is around: 2 m/s)\")"
   ]
  },
  {
   "cell_type": "code",
   "execution_count": 61,
   "metadata": {},
   "outputs": [
    {
     "name": "stdout",
     "output_type": "stream",
     "text": [
      "The real_error is 3.01 times the tricky_error\n"
     ]
    }
   ],
   "source": [
    "# RMSE comparison\n",
    "\n",
    "print(f\"The real_error is {round(real_error/tricky_error, 2)} times the tricky_error\")"
   ]
  },
  {
   "cell_type": "markdown",
   "metadata": {},
   "source": [
    "---"
   ]
  }
 ],
 "metadata": {
  "kernelspec": {
   "display_name": "Python (m2)",
   "language": "python",
   "name": "m2"
  },
  "language_info": {
   "codemirror_mode": {
    "name": "ipython",
    "version": 3
   },
   "file_extension": ".py",
   "mimetype": "text/x-python",
   "name": "python",
   "nbconvert_exporter": "python",
   "pygments_lexer": "ipython3",
   "version": "3.12.0"
  }
 },
 "nbformat": 4,
 "nbformat_minor": 2
}
